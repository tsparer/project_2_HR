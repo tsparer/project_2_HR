{
 "cells": [
  {
   "cell_type": "code",
   "execution_count": 3,
   "metadata": {
    "collapsed": true
   },
   "outputs": [],
   "source": [
    "# Tim Sparer\n",
    "# July 12 \n",
    "\n",
    "# Notebook for scraping glassdoor for reviews using Selenium\n",
    "\n",
    "# Resource:  https://github.com/thisismetis/chi18_ds7/blob/master/class_lectures/week02-luther1/02-regression_scrape/web_scraping_selenium_extra.ipynb\n",
    "\n",
    "\n",
    "#  Process to simulate with selenium:\n",
    "# got to glass door reviews\"https://www.glassdoor.com/Reviews/index.htm\"\n",
    "# Enter company name in search box (sel?)\n",
    "# On company page, go to reviews(sel?)\n",
    "# on reviews page, pull overall rating number (use this class tag:  'ratingNum') (maybeBS4?)\n",
    "\n",
    "# If there is time, pull the breakdown, by company:\n",
    "\n",
    "from selenium import webdriver\n",
    "from selenium.webdriver.common.keys import Keys\n",
    "import time\n",
    "import os\n",
    "\n",
    "chromedriver = \"/Applications/chromedriver\"\n",
    "os.environ[\"webdriver.chrome.driver\"] = chromedriver\n",
    "\n"
   ]
  },
  {
   "cell_type": "code",
   "execution_count": 29,
   "metadata": {},
   "outputs": [
    {
     "name": "stdout",
     "output_type": "stream",
     "text": [
      "3.6\n"
     ]
    }
   ],
   "source": [
    "# Opens a Chrome window and goes to google.com# Opens \n",
    "driver = webdriver.Chrome(chromedriver)\n",
    "driver.get(\"https://www.indeed.com/cmp/Walmart/reviews\")\n",
    "\n",
    "time.sleep(2);\n",
    "#location_box = driver.find_element_by_name(\"LocationSearch\").clear()  #empty the prefilled location box\n",
    "\n",
    "#search_box = driver.find_element_by_id(\"search-by-company-input\")\n",
    "# or try using exploreCompaniesWhat\n",
    "#time.sleep(2);\n",
    "#search_box.send_keys(\"PepsiCo\")\n",
    "#search_box.send_keys(Keys.RETURN)\n",
    "#time.sleep(3);\n",
    "#link_to_reviews = driver.find_element_by_partial_link_text(\"/cmp\")\n",
    "\n",
    "ratings_head =driver.find_element_by_xpath(\"//*[@itemprop='ratingValue']\")\n",
    "print(ratings_head.text)\n",
    "\n",
    "#https://stackoverflow.com/questions/42955248/selenium-find-the-id-of-the-parent-of-a-certain-item\n",
    "\n",
    "\n",
    "\n",
    "#https://stackoverflow.com/questions/30002313/selenium-finding-elements-by-class-name-in-python\n",
    "#priceValue = browser.find_element_by_xpath(\"//meta[@itemprop='price']\")\n",
    "#print priceValue.get_attribute(\"content\")\n",
    "\n",
    "#print(h_class)\n",
    "#driver.find_element_by_id(\"sc.location\").clear()\n",
    "#loc_box = driver.find_element_by_id(\"sc.location\")\n",
    "#loc_box.send_keys.clear()\n",
    "#time.sleep(1)\n",
    "#new_search_box = driver.find_element_by_name(\"sc.keyword\")\n",
    "#new_search_box.clear()\n",
    "#new_search_box.send_keys(\"Pepsi\")\n",
    "#new_search_box.send_keys(Keys.RETURN)\n",
    "#time.sleep(3);\n",
    "\n",
    "# <input id=\"LocationSearch\" class=\"loc\" type=\"text\" tabindex=\"0\" value=\"\" data-srch-type=\"popular\" placeholder=\"Location\" autocomplete=\"off\">\n"
   ]
  },
  {
   "cell_type": "code",
   "execution_count": 21,
   "metadata": {},
   "outputs": [
    {
     "ename": "TypeError",
     "evalue": "get_attribute() missing 1 required positional argument: 'name'",
     "output_type": "error",
     "traceback": [
      "\u001b[0;31m---------------------------------------------------------------------------\u001b[0m",
      "\u001b[0;31mTypeError\u001b[0m                                 Traceback (most recent call last)",
      "\u001b[0;32m<ipython-input-21-ac4f885fa575>\u001b[0m in \u001b[0;36m<module>\u001b[0;34m()\u001b[0m\n\u001b[0;32m----> 1\u001b[0;31m \u001b[0mval\u001b[0m \u001b[0;34m=\u001b[0m \u001b[0mratings_head\u001b[0m\u001b[0;34m.\u001b[0m\u001b[0mget_attribute\u001b[0m\u001b[0;34m(\u001b[0m\u001b[0;34m)\u001b[0m\u001b[0;34m\u001b[0m\u001b[0m\n\u001b[0m\u001b[1;32m      2\u001b[0m \u001b[0mprint\u001b[0m\u001b[0;34m(\u001b[0m\u001b[0mval\u001b[0m\u001b[0;34m)\u001b[0m\u001b[0;34m\u001b[0m\u001b[0m\n",
      "\u001b[0;31mTypeError\u001b[0m: get_attribute() missing 1 required positional argument: 'name'"
     ]
    }
   ],
   "source": [
    "val = ratings_head.get_attribute()\n",
    "print(val)"
   ]
  },
  {
   "cell_type": "code",
   "execution_count": 23,
   "metadata": {
    "collapsed": true
   },
   "outputs": [],
   "source": [
    "# To find the html tags for elements in a page, right click the element then click inspect\n",
    "# element, dev tools should pop up with the name of the element\n",
    "#  http://www.softwaretestingstudio.com/textbox-enter-value-webdriver/\n",
    "\n",
    "\n",
    "\n",
    "#<input type=\"text\" id=\"search-by-company-input\" class=\"cmp-discovery-input \n",
    "#cmp-discovery-curated\" name=\"q\" value=\"\" placeholder=\"Enter a company name\" \n",
    "#data-initial=\"\" data-search=\"\" autocomplete=\"off\" aria-haspopup=\"true\">\n",
    "\n",
    "\n",
    "# So, in the glass door example, right clicking the search box and clicking inspect\n",
    "# brings up this html:\n",
    "# <input name=\"sc.keyword\" id=\"KeywordSearch\" class=\"keyword\" type=\"text\" \n",
    "#  tabindex=\"0\" value=\"\" placeholder=\"Company Name\" data-auto-complete=\"true\"\n",
    "#  data-ac-version=\"New\" autocomplete=\"off\">\n",
    "\n",
    "\n",
    "# and finding the button next to it (to actually enter the query ), is done by \n",
    "# right click, inspect , and results in:\n",
    "# <button class=\"gd-btn-mkt\" id=\"HeroSearchButton\" type=\"submit\"\n",
    "# tabindex=\"0\"><span>Search</span></button>\n",
    "\n",
    "\n",
    "\n",
    "\n"
   ]
  },
  {
   "cell_type": "code",
   "execution_count": 8,
   "metadata": {
    "collapsed": true
   },
   "outputs": [],
   "source": [
    "# Note:  Beatiful Soup doesn't seem to work on GlassDoor\n",
    "\n",
    "# Search within a review page, for the tag that has the average number of reviews\n",
    "# use beautiful soup\n",
    "\n",
    "# Glassdoor prohibit bots\n",
    "\n",
    "# if needed: pip install requests\n",
    "import requests\n",
    "\n",
    "url = \"https://www.indeed.com/cmp/PepsiCo/reviews\"\n",
    "\n",
    "response = requests.get(url)\n",
    "\n",
    "# <div class=\"ratingNum\">3.4</div>"
   ]
  },
  {
   "cell_type": "code",
   "execution_count": 9,
   "metadata": {},
   "outputs": [
    {
     "data": {
      "text/plain": [
       "200"
      ]
     },
     "execution_count": 9,
     "metadata": {},
     "output_type": "execute_result"
    }
   ],
   "source": [
    "response.status_code"
   ]
  },
  {
   "cell_type": "code",
   "execution_count": 3,
   "metadata": {},
   "outputs": [
    {
     "name": "stdout",
     "output_type": "stream",
     "text": [
      "<!DOCTYPE html><html><head><title>Apache Tomcat - Error report</title><style type=\"text/css\">H1 {font-family:Tahoma,Arial,sans-serif;color:white;background-color:#525D76;font-size:22px;} H2 {font-family:Tahoma,Arial,sans-serif;color:white;background-color:#525D76;font-size:16px;} H3 {font-family:Tahoma,Arial,sans-serif;color:white;background-color:#525D76;font-size:14px;} BODY {font-family:Tahoma,Arial,sans-serif;color:black;background-color:white;} B {font-family:Tahoma,Arial,sans-serif;color:white;background-color:#525D76;} P {font-family:Tahoma,Arial,sans-serif;background:white;color:black;font-size:12px;}A {color : black;}A.name {color : black;}.line {height: 1px; background-color: #525D76; border: none;}</style> </head><body><h1>HTTP Status 403 - Bots not allowed</h1><div class=\"line\"></div><p><b>type</b> Status report</p><p><b>message</b> <u>Bots not allowed</u></p><p><b>description</b> <u>Access to the specified resource has been forbidden.</u></p><hr class=\"line\"><h3>Apache Tomcat</h3></body></html>\n"
     ]
    }
   ],
   "source": [
    "print(response.text)"
   ]
  },
  {
   "cell_type": "code",
   "execution_count": null,
   "metadata": {
    "collapsed": true
   },
   "outputs": [],
   "source": []
  }
 ],
 "metadata": {
  "kernelspec": {
   "display_name": "Python [default]",
   "language": "python",
   "name": "python3"
  },
  "language_info": {
   "codemirror_mode": {
    "name": "ipython",
    "version": 3
   },
   "file_extension": ".py",
   "mimetype": "text/x-python",
   "name": "python",
   "nbconvert_exporter": "python",
   "pygments_lexer": "ipython3",
   "version": "3.5.3"
  }
 },
 "nbformat": 4,
 "nbformat_minor": 2
}
