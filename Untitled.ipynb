{
 "cells": [
  {
   "cell_type": "code",
   "execution_count": null,
   "metadata": {
    "collapsed": true
   },
   "outputs": [],
   "source": [
    "import numpy\n",
    "class linear_regression():\n",
    "    \n",
    "    def __init__(self):\n",
    "        self.coef_ = None\n",
    "        self.prediction = None\n",
    " \n",
    "        \n",
    "    def fit(self, X, y):\n",
    "        \"\"\"\n",
    "        Read in X (all features) and y (target) and use the Linear Algebra solution\n",
    "        to extract the coefficients for Linear Regression.\n",
    "        \"\"\"\n",
    "        X = np.array(X)\n",
    "        y = np.array(y)\n",
    "        self.coef_= (numpy.linalg.inv((X.T.dot(X))) @ X.T @ y)\n",
    "    \n",
    "    def predict(self,X):\n",
    "        \"\"\"\n",
    "        Takes in a new X value (that must be the same shape as the original X for fitting)\n",
    "        and returns the predicted y value, using the coefficients from fitting.\n",
    "        \"\"\"\n",
    "        X = np.array(X)\n",
    "        self.prediction = self.coef @ X\n",
    "        return self.prediction"
   ]
  }
 ],
 "metadata": {
  "kernelspec": {
   "display_name": "Python [conda root]",
   "language": "python",
   "name": "conda-root-py"
  },
  "language_info": {
   "codemirror_mode": {
    "name": "ipython",
    "version": 3
   },
   "file_extension": ".py",
   "mimetype": "text/x-python",
   "name": "python",
   "nbconvert_exporter": "python",
   "pygments_lexer": "ipython3",
   "version": "3.5.3"
  }
 },
 "nbformat": 4,
 "nbformat_minor": 2
}
