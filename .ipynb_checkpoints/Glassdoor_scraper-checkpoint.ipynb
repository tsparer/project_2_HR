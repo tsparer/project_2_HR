{
 "cells": [
  {
   "cell_type": "code",
   "execution_count": 5,
   "metadata": {
    "collapsed": true
   },
   "outputs": [],
   "source": [
    "# Tim Sparer\n",
    "# July 12 \n",
    "\n",
    "# Notebook for scraping glassdoor for reviews using Selenium\n",
    "\n",
    "# Resource:  https://github.com/thisismetis/chi18_ds7/blob/master/class_lectures/week02-luther1/02-regression_scrape/web_scraping_selenium_extra.ipynb\n",
    "\n",
    "\n",
    "#  Process to simulate with selenium:\n",
    "# got to glass door reviews\"https://www.glassdoor.com/Reviews/index.htm\"\n",
    "# Enter company name in search box (sel?)\n",
    "# On company page, go to reviews(sel?)\n",
    "# on reviews page, pull overall rating number (use this class tag:  'ratingNum') (maybeBS4?)\n",
    "\n",
    "# If there is time, pull the breakdown, by company:\n",
    "\n",
    "from selenium import webdriver\n",
    "from selenium.webdriver.common.keys import Keys\n",
    "import time\n",
    "import os\n",
    "\n",
    "chromedriver = \"/Applications/chromedriver\"\n",
    "os.environ[\"webdriver.chrome.driver\"] = chromedriver\n",
    "\n"
   ]
  },
  {
   "cell_type": "code",
   "execution_count": null,
   "metadata": {
    "collapsed": true
   },
   "outputs": [],
   "source": [
    "# Opens a Chrome window and goes to google.com# Opens \n",
    "driver = webdriver.Chrome(Chrome)\n",
    "driver.get(\"https://www.glassdoor.com/Reviews/index.htm\")\n",
    "\n",
    "\n",
    "# To find the html tags for elements in a page, right click the element then click inspect\n",
    "# element, dev tools should pop up with the name of the element\n",
    "#  http://www.softwaretestingstudio.com/textbox-enter-value-webdriver/\n",
    "\n",
    "\n",
    "# So, in the glass door example, right clicking the search box and clicking inspect\n",
    "# brings up this html:\n",
    "# <input name=\"sc.keyword\" id=\"KeywordSearch\" class=\"keyword\" type=\"text\" \n",
    "#  tabindex=\"0\" value=\"\" placeholder=\"Company Name\" data-auto-complete=\"true\"\n",
    "#  data-ac-version=\"New\" autocomplete=\"off\">\n",
    "\n",
    "\n",
    "# and finding the button next to it (to actually enter the query ), is done by \n",
    "# right click, inspect , and results in:\n",
    "# <button class=\"gd-btn-mkt\" id=\"HeroSearchButton\" type=\"submit\"\n",
    "# tabindex=\"0\"><span>Search</span></button>"
   ]
  },
  {
   "cell_type": "code",
   "execution_count": 1,
   "metadata": {
    "collapsed": true
   },
   "outputs": [],
   "source": [
    "# Note:  Beatiful Soup doesn't seem to work on GlassDoor\n",
    "\n",
    "# Search within a review page, for the tag that has the average number of reviews\n",
    "# use beautiful soup\n",
    "\n",
    "# Glassdoor prohibit bots\n",
    "\n",
    "# if needed: pip install requests\n",
    "import requests\n",
    "\n",
    "url = \"https://www.glassdoor.com/Reviews/PepsiCo-Reviews-E522.htm\"\n",
    "\n",
    "response = requests.get(url)\n",
    "\n",
    "# <div class=\"ratingNum\">3.4</div>"
   ]
  },
  {
   "cell_type": "code",
   "execution_count": 2,
   "metadata": {},
   "outputs": [
    {
     "data": {
      "text/plain": [
       "403"
      ]
     },
     "execution_count": 2,
     "metadata": {},
     "output_type": "execute_result"
    }
   ],
   "source": [
    "response.status_code"
   ]
  },
  {
   "cell_type": "code",
   "execution_count": 3,
   "metadata": {},
   "outputs": [
    {
     "name": "stdout",
     "output_type": "stream",
     "text": [
      "<!DOCTYPE html><html><head><title>Apache Tomcat - Error report</title><style type=\"text/css\">H1 {font-family:Tahoma,Arial,sans-serif;color:white;background-color:#525D76;font-size:22px;} H2 {font-family:Tahoma,Arial,sans-serif;color:white;background-color:#525D76;font-size:16px;} H3 {font-family:Tahoma,Arial,sans-serif;color:white;background-color:#525D76;font-size:14px;} BODY {font-family:Tahoma,Arial,sans-serif;color:black;background-color:white;} B {font-family:Tahoma,Arial,sans-serif;color:white;background-color:#525D76;} P {font-family:Tahoma,Arial,sans-serif;background:white;color:black;font-size:12px;}A {color : black;}A.name {color : black;}.line {height: 1px; background-color: #525D76; border: none;}</style> </head><body><h1>HTTP Status 403 - Bots not allowed</h1><div class=\"line\"></div><p><b>type</b> Status report</p><p><b>message</b> <u>Bots not allowed</u></p><p><b>description</b> <u>Access to the specified resource has been forbidden.</u></p><hr class=\"line\"><h3>Apache Tomcat</h3></body></html>\n"
     ]
    }
   ],
   "source": [
    "print(response.text)"
   ]
  },
  {
   "cell_type": "code",
   "execution_count": null,
   "metadata": {
    "collapsed": true
   },
   "outputs": [],
   "source": []
  }
 ],
 "metadata": {
  "kernelspec": {
   "display_name": "Python [default]",
   "language": "python",
   "name": "python3"
  },
  "language_info": {
   "codemirror_mode": {
    "name": "ipython",
    "version": 3
   },
   "file_extension": ".py",
   "mimetype": "text/x-python",
   "name": "python",
   "nbconvert_exporter": "python",
   "pygments_lexer": "ipython3",
   "version": "3.5.3"
  }
 },
 "nbformat": 4,
 "nbformat_minor": 2
}
