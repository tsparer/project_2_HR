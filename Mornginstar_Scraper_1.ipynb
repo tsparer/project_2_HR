{
 "cells": [
  {
   "cell_type": "code",
   "execution_count": 4,
   "metadata": {},
   "outputs": [],
   "source": [
    "#Tim Sparer\n",
    "# July 15th\n",
    "\n",
    "# General overview\n",
    "\n",
    "# go to: https://www.morningstar.com/\n",
    "# type in ticker symbol\n",
    "# enter\n",
    "# on new page, go to the link with the financial data  (below)-\n",
    "#  <a ng-href=\"//financials.morningstar.com/income-statement/is.html?t=0P000004B0&amp;culture=en-US&amp;ops=clear\" target=\"_blank\" class=\"ng-binding\" href=\"//financials.morningstar.com/income-statement/is.html?t=0P000004B0&amp;culture=en-US&amp;ops=clear\">All Financials Data <i class=\"sal-read-more-icon\"></i></a>\n",
    "# On the financials page, go to (the link below downloads the information):\n",
    "# <a href=\"javascript:SRT_stocFund.Export()\" class=\"rf_export\"></a>\n",
    "\n",
    "import random\n",
    "import time\n",
    "import os\n",
    "\n",
    "from selenium import webdriver\n",
    "from selenium.webdriver.common.keys import Keys\n",
    "\n",
    "chromedriver = \"/Applications/chromedriver\"\n",
    "os.environ[\"webdriver.chrome.driver\"] = chromedriver\n",
    "\n",
    " "
   ]
  },
  {
   "cell_type": "code",
   "execution_count": 5,
   "metadata": {},
   "outputs": [
    {
     "ename": "NameError",
     "evalue": "name 'find_element_by_id' is not defined",
     "output_type": "error",
     "traceback": [
      "\u001b[0;31m---------------------------------------------------------------------------\u001b[0m",
      "\u001b[0;31mNameError\u001b[0m                                 Traceback (most recent call last)",
      "\u001b[0;32m<ipython-input-5-1c6c9119b278>\u001b[0m in \u001b[0;36m<module>\u001b[0;34m()\u001b[0m\n\u001b[1;32m      3\u001b[0m \u001b[0;31m# go to site and enter search terms\u001b[0m\u001b[0;34m\u001b[0m\u001b[0;34m\u001b[0m\u001b[0m\n\u001b[1;32m      4\u001b[0m \u001b[0mdriver\u001b[0m\u001b[0;34m.\u001b[0m\u001b[0mget\u001b[0m\u001b[0;34m(\u001b[0m\u001b[0;34m\"https://www.morningstar.com/\"\u001b[0m\u001b[0;34m)\u001b[0m\u001b[0;34m\u001b[0m\u001b[0m\n\u001b[0;32m----> 5\u001b[0;31m \u001b[0msearch_box\u001b[0m \u001b[0;34m=\u001b[0m \u001b[0mfind_element_by_id\u001b[0m\u001b[0;34m(\u001b[0m\u001b[0mid\u001b[0m\u001b[0;34m=\u001b[0m\u001b[0;34m\"header-site-search-0-1\"\u001b[0m\u001b[0;34m)\u001b[0m\u001b[0;34m\u001b[0m\u001b[0m\n\u001b[0m\u001b[1;32m      6\u001b[0m \u001b[0mtime\u001b[0m\u001b[0;34m.\u001b[0m\u001b[0msleep\u001b[0m\u001b[0;34m(\u001b[0m\u001b[0;36m3\u001b[0m\u001b[0;34m)\u001b[0m\u001b[0;34m\u001b[0m\u001b[0m\n\u001b[1;32m      7\u001b[0m \u001b[0msearch_box\u001b[0m\u001b[0;34m.\u001b[0m\u001b[0msend_keys\u001b[0m\u001b[0;34m(\u001b[0m\u001b[0;34m\"PepsiCo\"\u001b[0m\u001b[0;34m)\u001b[0m\u001b[0;34m\u001b[0m\u001b[0m\n",
      "\u001b[0;31mNameError\u001b[0m: name 'find_element_by_id' is not defined"
     ]
    }
   ],
   "source": [
    "driver = webdriver.Chrome(chromedriver)\n",
    "\n",
    "# go to site and enter search terms\n",
    "driver.get(\"https://www.morningstar.com/\")\n",
    "search_box = find_element_by_id(id=\"header-site-search-0-1\")\n",
    "time.sleep(3)\n",
    "search_box.send_keys(\"PepsiCo\")\n",
    "search_box.send_keys(Keys.RETURN)\n",
    "\n",
    "\n",
    "# on the new page, find the link to the financial information\n",
    "#  <a ng-href=\"//financials.morningstar.com/income-statement/is.html?t=0P000004B0&amp;culture=en-US&amp;ops=clear\" target=\"_blank\" class=\"ng-binding\" href=\"//financials.morningstar.com/income-statement/is.html?t=0P000004B0&amp;culture=en-US&amp;ops=clear\">All Financials Data <i class=\"sal-read-more-icon\"></i></a>\n",
    "# On the financials page, go to (the link below downloads the information):\n",
    "\n",
    "\n",
    "# \n",
    "#Use find_elements_by_tag_name('a') to find the 'a' tags, \n",
    "# and then use get_attribute('href')\n",
    "\n"
   ]
  },
  {
   "cell_type": "code",
   "execution_count": null,
   "metadata": {
    "collapsed": true
   },
   "outputs": [],
   "source": []
  }
 ],
 "metadata": {
  "kernelspec": {
   "display_name": "Python [default]",
   "language": "python",
   "name": "python3"
  },
  "language_info": {
   "codemirror_mode": {
    "name": "ipython",
    "version": 3
   },
   "file_extension": ".py",
   "mimetype": "text/x-python",
   "name": "python",
   "nbconvert_exporter": "python",
   "pygments_lexer": "ipython3",
   "version": "3.5.3"
  }
 },
 "nbformat": 4,
 "nbformat_minor": 2
}
